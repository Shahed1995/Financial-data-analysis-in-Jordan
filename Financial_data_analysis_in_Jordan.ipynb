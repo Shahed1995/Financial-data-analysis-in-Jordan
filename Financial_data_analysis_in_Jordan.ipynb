{
  "cells": [
    {
      "cell_type": "code",
      "execution_count": null,
      "metadata": {
        "id": "syDtzT4H_w8B"
      },
      "outputs": [],
      "source": [
        "# library in python code \n",
        "import matplotlib as plt \n",
        "from matplotlib import pyplot as plt\n",
        "import pandas as pd"
      ]
    },
    {
      "cell_type": "code",
      "execution_count": null,
      "metadata": {
        "id": "sx5vTLR2Q37u"
      },
      "outputs": [],
      "source": [
        "print(\"Gross domestic product by economic activity at current basic prices for the years 2002-2009 (million dinars) with population\")\n",
        "print(\"Data analysis using Python\")\n",
        "# Read database\n",
        "Economic_df = pd.read_csv(\"Economic_activity_current_basic_prices_years_2002_2009 _million_dinars.csv\")\n",
        "print(\"The Financial data :\") \n",
        "print(Economic_df)\n",
        "df1=pd.DataFrame(Economic_df)\n",
        "# Show the data \n",
        "display(df1)\n",
        "print(\"-------------------------------------------------------\")\n",
        "# Show the shap of data \n",
        "print(\"The Shape of Financial data :\")\n",
        "print(Economic_df.shape)\n",
        "print(\"-------------------------------------------------------\")\n",
        "# Show the maximum value in each column in dataframe  \n",
        "print(\"Display  the maximum value in each column\")\n",
        "display(df1.style.highlight_max())\n",
        "print(\"-------------------------------------------------------\")\n",
        "# Show the minimum value in each column in dataframe  \n",
        "print(\"Display the minimum value in each column\")\n",
        "display(df1.style.highlight_min())\n",
        "print(\"-------------------------------------------------------\")\n",
        "# Show the first five column in dataframe  \n",
        "print(\"Display first five column\")\n",
        "print(Economic_df.head())\n",
        "print(\"-------------------------------------------------------\")\n",
        "# Show the last five column column in dataframe  \n",
        "print(\"Display last five column\")\n",
        "print(Economic_df.tail())\n",
        "print(\"-------------------------------------------------------\")\n",
        "# Show column names \n",
        "print(\"Display column names\")\n",
        "print(Economic_df.columns)\n",
        "print(\"-------------------------------------------------------\")\n",
        "# Show the average net gross national income from 2002 to 2009\n",
        "print(\"The average net gross national income from 2002 to 2009\")\n",
        "revenue_mean = Economic_df['Gross national income'].mean()\n",
        "print(revenue_mean)\n",
        "print(\"-------------------------------------------------------\")\n",
        "# Show The number of rows\n",
        "print(\"The number of rows\")\n",
        "print(Economic_df.shape[0])\n",
        "print(\"-------------------------------------------------------\")\n",
        "# Show The number of columns\n",
        "print(\"The number of columns\")\n",
        "print(Economic_df.shape[1])\n",
        "print(\"-------------------------------------------------------\")\n",
        "\n",
        "# Function check if there is a Miss value or null in datafram\n",
        "def checkmissvalue():\n",
        "  print(\"Checking if there is Any missing value :\")\n",
        "  test=Economic_df.isnull().values.any()\n",
        "  if test==True:\n",
        "           print(\"There is a missing value\")\n",
        "  else:\n",
        "           print(\"There is no misssing value\")\n",
        "print(\"-------------------------------------------------------\")"
      ]
    },
    {
      "cell_type": "code",
      "execution_count": null,
      "metadata": {
        "id": "xjdlv8FZ_nMM"
      },
      "outputs": [],
      "source": [
        "# The length of dataframe\n",
        "print(\"The length of dataframe :\")\n",
        "print(len(Economic_df))\n",
        "print(\"-------------------------------------------------------\")\n",
        "\n",
        "# database summary\n",
        "print(\"The summary of dataframe :\")\n",
        "print((Economic_df.describe(include='all')))"
      ]
    },
    {
      "cell_type": "code",
      "execution_count": null,
      "metadata": {
        "id": "bHzuYQtD3WxW"
      },
      "outputs": [],
      "source": [
        "# Show the maximum value in each column in dataframe  \n",
        "print(\"Display  the maximum value in each column\")\n",
        "display(df1.style.highlight_max())"
      ]
    },
    {
      "cell_type": "code",
      "execution_count": null,
      "metadata": {
        "id": "94EwZd2O3pm-"
      },
      "outputs": [],
      "source": [
        "# Show the minimum value in each column in dataframe  \n",
        "print(\"Display the minimum value in each column\")\n",
        "display(df1.style.highlight_min())"
      ]
    },
    {
      "cell_type": "code",
      "execution_count": null,
      "metadata": {
        "id": "EwNf1N-E35KC"
      },
      "outputs": [],
      "source": [
        "def bar_chart1():\n",
        "    Year = Economic_df[\"Year\"]\n",
        "    values = Economic_df[\"number of population\"]\n",
        "    fig = plt.figure(figsize = (10, 5))\n",
        "\n",
        "    plt.bar(Year, values)\n",
        "    plt.xlabel(\"The years from 2000-2009\")\n",
        "    plt.ylabel(\"population (Million)\")\n",
        "    plt.title(\"A study of the relationship between population numbers with progress in years in Jordan\")  \n",
        "bar_chart1()\n",
        "print(\"-----------------------------------\")\n",
        "print(\"According to what is apparent in the figure, it is a direct relationship between the average population in Jordan, which is increasing, that is, the direct relationship between population numbers and years.\")\n",
        "print(\"-----------------------------------\")"
      ]
    },
    {
      "cell_type": "code",
      "execution_count": null,
      "metadata": {
        "id": "dqAUBa4X91Gp"
      },
      "outputs": [],
      "source": [
        "def bar_chart2():\n",
        "    Year = Economic_df[\"Year\"]\n",
        "    Agriculture = Economic_df[\"Agriculture, hunting, forestry and fishing\"]\n",
        "    fig = plt.figure(figsize = (10, 5) )\n",
        "    plt.bar(Year, Agriculture)\n",
        "    plt.xlabel(\"The years from 2000-2009\")\n",
        "    plt.ylabel(\"production rate of  Agriculture, hunting, forestry and fishing\")\n",
        "    plt.title(\"A study of the relationship between production rate of [Agriculture, hunting, forestry and fishing]  with progress in years in Jordan\")\n",
        "    plt.plot(color=\"r\")\n",
        "bar_chart2()  \n",
        "print(\"---------------------------------\")\n",
        "print(\"According to what is apparent in the figure, it is a direct relationship between the rate of agricultural production in Jordan with the number of years, which leads to an increase in productivity over the years.\")\n",
        "print(\"---------------------------------\")"
      ]
    },
    {
      "cell_type": "code",
      "execution_count": null,
      "metadata": {
        "id": "NCfYMi4K-oGt"
      },
      "outputs": [],
      "source": [
        "print(\" Show the relationship between the population number in Jordan and the average national income during 9 years \")\n",
        "chart_data = pd.DataFrame(\n",
        "        Economic_df,columns=['number of population', 'Gross national income'])\n",
        "plt.xlabel(\"number of population in Million\")\n",
        "plt.ylabel(\"Gross national income\")\n",
        "plt.title(\"A study of the relationship between number of population and Gross national income during 9 years  \")\n",
        "plt.plot(chart_data)\n",
        "print(\"direct relationship\")"
      ]
    },
    {
      "cell_type": "code",
      "execution_count": null,
      "metadata": {
        "id": "av0rer9v3xmi"
      },
      "outputs": [],
      "source": [
        "print(\"-------------------------------------------------------\")\n",
        "print(\"Programming Challenge -- >> Community number 53\")\n",
        "print(\"-------------------------------------------------------\")\n",
        "# team summary\n",
        "print(\"The team Info : \")\n",
        "print(\"1. Shahed Al-khateeb \")\n",
        "print(\"2. Rawan Abu Lali\")\n",
        "print(\"3. Raged Al-khateeb \")\n",
        "print(\"4. Waed Al-khateeb \")"
      ]
    }
  ],
  "metadata": {
    "colab": {
      "name": "Financial data analysis in Jordan.ipynb",
      "private_outputs": true,
      "provenance": []
    },
    "kernelspec": {
      "display_name": "Python 3",
      "name": "python3"
    },
    "language_info": {
      "name": "python"
    }
  },
  "nbformat": 4,
  "nbformat_minor": 0
}
